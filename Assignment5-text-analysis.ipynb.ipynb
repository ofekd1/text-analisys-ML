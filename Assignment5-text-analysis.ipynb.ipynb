{
 "cells": [
  {
   "attachments": {},
   "cell_type": "markdown",
   "metadata": {},
   "source": [
    "# Assignment 5 - Text Analysis\n",
    "An explanation this assignment could be found in the .pdf explanation document"
   ]
  },
  {
   "attachments": {},
   "cell_type": "markdown",
   "metadata": {},
   "source": [
    "\n",
    "## Materials to review for this assignment\n",
    "<h4>From Moodle:</h4> \n",
    "<h5><u>Review the notebooks regarding the following python topics</u>:</h5>\n",
    "<div class=\"alert alert-info\">\n",
    "&#x2714; <b>Working with strings</b> (tutorial notebook)<br/>\n",
    "&#x2714; <b>Text Analysis</b> (tutorial notebook)<br/>\n",
    "&#x2714; <b>Hebrew text analysis tools (tokenizer, wordnet)</b> (moodle example)<br/>\n",
    "&#x2714; <b>(brief review) All previous notebooks</b><br/>\n",
    "</div> \n",
    "<h5><u>Review the presentations regarding the following topics</u>:</h5>\n",
    "<div class=\"alert alert-info\">\n",
    "&#x2714; <b>Text Analysis</b> (lecture presentation)<br/>\n",
    "&#x2714; <b>(brief review) All other presentations</b><br/>\n",
    "</div>"
   ]
  },
  {
   "attachments": {},
   "cell_type": "markdown",
   "metadata": {},
   "source": [
    "## Preceding Step - import modules (packages)\n",
    "This step is necessary in order to use external modules (packages). <br/>"
   ]
  },
  {
   "cell_type": "code",
   "execution_count": 1,
   "metadata": {},
   "outputs": [],
   "source": [
    "# --------------------------------------\n",
    "import pandas as pd\n",
    "import numpy as np\n",
    "# --------------------------------------\n",
    "\n",
    "\n",
    "# --------------------------------------\n",
    "# ------------- visualizations:\n",
    "import seaborn as sns\n",
    "import matplotlib.pyplot as plt\n",
    "from matplotlib.colors import ListedColormap\n",
    "# --------------------------------------\n",
    "\n",
    "\n",
    "# ---------------------------------------\n",
    "import sklearn\n",
    "from sklearn import preprocessing, metrics, pipeline, model_selection, feature_extraction \n",
    "from sklearn import naive_bayes, linear_model, svm, neural_network, neighbors, tree\n",
    "from sklearn import decomposition, cluster\n",
    "\n",
    "from sklearn.model_selection import train_test_split, cross_val_score, GridSearchCV \n",
    "from sklearn.pipeline import Pipeline\n",
    "from sklearn.metrics import accuracy_score, confusion_matrix\n",
    "from sklearn.metrics import precision_score, recall_score, f1_score\n",
    "from sklearn.metrics import mean_squared_error, r2_score, silhouette_score\n",
    "from sklearn.preprocessing import MinMaxScaler, StandardScaler, LabelEncoder\n",
    "\n",
    "from sklearn.svm import LinearSVC\n",
    "from sklearn.neural_network import MLPClassifier\n",
    "from sklearn.linear_model import Perceptron, SGDClassifier\n",
    "from sklearn.decomposition import PCA\n",
    "from sklearn.cluster import KMeans\n",
    "from sklearn.naive_bayes import MultinomialNB, GaussianNB\n",
    "from sklearn.neighbors import KNeighborsClassifier\n",
    "from sklearn.tree import DecisionTreeClassifier\n",
    "# ---------------------------------------\n",
    "\n",
    "\n",
    "# ----------------- output and visualizations: \n",
    "import warnings\n",
    "from sklearn.exceptions import ConvergenceWarning\n",
    "warnings.simplefilter(\"ignore\")\n",
    "warnings.simplefilter(action='ignore', category=FutureWarning)\n",
    "warnings.simplefilter(\"ignore\", category=ConvergenceWarning)\n",
    "# show several prints in one cell. This will allow us to condence every trick in one cell.\n",
    "from IPython.core.interactiveshell import InteractiveShell\n",
    "InteractiveShell.ast_node_interactivity = \"all\"\n",
    "%matplotlib inline\n",
    "pd.pandas.set_option('display.max_columns', None)\n",
    "pd.set_option('display.float_format', lambda x: '%.3f' % x)\n",
    "# ---------------------------------------"
   ]
  },
  {
   "attachments": {},
   "cell_type": "markdown",
   "metadata": {},
   "source": [
    "### Text analysis and String manipulation imports:"
   ]
  },
  {
   "cell_type": "code",
   "execution_count": 2,
   "metadata": {},
   "outputs": [],
   "source": [
    "# --------------------------------------\n",
    "# --------- Text analysis and Hebrew text analysis imports:\n",
    "# vectorizers:\n",
    "from sklearn.feature_extraction import text\n",
    "from sklearn.feature_extraction.text import CountVectorizer, TfidfVectorizer\n",
    "\n",
    "# regular expressions:\n",
    "import re\n",
    "# --------------------------------------"
   ]
  },
  {
   "attachments": {},
   "cell_type": "markdown",
   "metadata": {},
   "source": [
    "### (optional) Hebrew text analysis - WordNet (for Hebrew)\n",
    "Note: the WordNet is not a must"
   ]
  },
  {
   "attachments": {},
   "cell_type": "markdown",
   "metadata": {},
   "source": [
    "#### (optional) Only if you didn't install Wordnet (for Hebrew) use:"
   ]
  },
  {
   "cell_type": "code",
   "execution_count": 4,
   "metadata": {},
   "outputs": [
    {
     "name": "stdout",
     "output_type": "stream",
     "text": [
      "Collecting wn\n",
      "  Downloading wn-0.9.4-py3-none-any.whl (75 kB)\n",
      "     -------------------------------------- 75.7/75.7 kB 696.0 kB/s eta 0:00:00\n",
      "Requirement already satisfied: requests in c:\\users\\ofekd\\anaconda3\\lib\\site-packages (from wn) (2.28.1)\n",
      "Requirement already satisfied: tomli in c:\\users\\ofekd\\anaconda3\\lib\\site-packages (from wn) (2.0.1)\n",
      "Requirement already satisfied: certifi>=2017.4.17 in c:\\users\\ofekd\\anaconda3\\lib\\site-packages (from requests->wn) (2022.9.14)\n",
      "Requirement already satisfied: urllib3<1.27,>=1.21.1 in c:\\users\\ofekd\\anaconda3\\lib\\site-packages (from requests->wn) (1.26.11)\n",
      "Requirement already satisfied: charset-normalizer<3,>=2 in c:\\users\\ofekd\\anaconda3\\lib\\site-packages (from requests->wn) (2.0.4)\n",
      "Requirement already satisfied: idna<4,>=2.5 in c:\\users\\ofekd\\anaconda3\\lib\\site-packages (from requests->wn) (3.3)\n",
      "Installing collected packages: wn\n",
      "Successfully installed wn-0.9.4\n"
     ]
    },
    {
     "name": "stderr",
     "output_type": "stream",
     "text": [
      "\n",
      "\u001b[K\n",
      "Download (0 bytes) Requesting\n",
      "\u001b[K\n",
      "Download [                              ] (0/315276 bytes) Receiving\n",
      "\u001b[K\n",
      "Download [=                             ] (8192/315276 bytes) Receiving\n",
      "\u001b[K\n",
      "Download [#-                            ] (16384/315276 bytes) Receiving\n",
      "\u001b[K\n",
      "Download [##-                           ] (24576/315276 bytes) Receiving\n",
      "\u001b[K\n",
      "Download [###                           ] (32768/315276 bytes) Receiving\n",
      "\u001b[K\n",
      "Download [###=                          ] (40960/315276 bytes) Receiving\n",
      "\u001b[K\n",
      "Download [####=                         ] (49152/315276 bytes) Receiving\n",
      "\u001b[K\n",
      "Download [#####-                        ] (57344/315276 bytes) Receiving\n",
      "\u001b[K\n",
      "Download [######                        ] (65536/315276 bytes) Receiving\n",
      "\u001b[K\n",
      "Download [#######                       ] (73728/315276 bytes) Receiving\n",
      "\u001b[K\n",
      "Download [#######=                      ] (81920/315276 bytes) Receiving\n",
      "\u001b[K\n",
      "Download [########-                     ] (90112/315276 bytes) Receiving\n",
      "\u001b[K\n",
      "Download [#########-                    ] (98304/315276 bytes) Receiving\n",
      "\u001b[K\n",
      "Download [##########                    ] (106496/315276 bytes) Receiving\n",
      "\u001b[K\n",
      "Download [##########=                   ] (114688/315276 bytes) Receiving\n",
      "\u001b[K\n",
      "Download [###########=                  ] (122880/315276 bytes) Receiving\n",
      "\u001b[K\n",
      "Download [############-                 ] (131072/315276 bytes) Receiving\n",
      "\u001b[K\n",
      "Download [#############                 ] (139264/315276 bytes) Receiving\n",
      "\u001b[K\n",
      "Download [##############                ] (147456/315276 bytes) Receiving\n",
      "\u001b[K\n",
      "Download [##############=               ] (155648/315276 bytes) Receiving\n",
      "\u001b[K\n",
      "Download [###############-              ] (163840/315276 bytes) Receiving\n",
      "\u001b[K\n",
      "Download [################-             ] (172032/315276 bytes) Receiving\n",
      "\u001b[K\n",
      "Download [#################             ] (180224/315276 bytes) Receiving\n",
      "\u001b[K\n",
      "Download [#################=            ] (188416/315276 bytes) Receiving\n",
      "\u001b[K\n",
      "Download [##################=           ] (196608/315276 bytes) Receiving\n",
      "\u001b[K\n",
      "Download [###################-          ] (204800/315276 bytes) Receiving\n",
      "\u001b[K\n",
      "Download [####################          ] (212992/315276 bytes) Receiving\n",
      "\u001b[K\n",
      "Download [#####################         ] (221184/315276 bytes) Receiving\n",
      "\u001b[K\n",
      "Download [#####################=        ] (229376/315276 bytes) Receiving\n",
      "\u001b[K\n",
      "Download [######################-       ] (237568/315276 bytes) Receiving\n",
      "\u001b[K\n",
      "Download [#######################-      ] (245760/315276 bytes) Receiving\n",
      "\u001b[K\n",
      "Download [########################      ] (253952/315276 bytes) Receiving\n",
      "\u001b[K\n",
      "Download [########################=     ] (262144/315276 bytes) Receiving\n",
      "\u001b[K\n",
      "Download [#########################=    ] (270336/315276 bytes) Receiving\n",
      "\u001b[K\n",
      "Download [##########################-   ] (278528/315276 bytes) Receiving\n",
      "\u001b[K\n",
      "Download [###########################   ] (286720/315276 bytes) Receiving\n",
      "\u001b[K\n",
      "Download [############################  ] (294912/315276 bytes) Receiving\n",
      "\u001b[K\n",
      "Download [############################= ] (303104/315276 bytes) Receiving\n",
      "\u001b[K\n",
      "Download [#############################-] (311296/315276 bytes) Receiving\n",
      "\u001b[K\n",
      "Download [##############################] (315276/315276 bytes) Receiving\n",
      "\u001b[K\n",
      "Download [##############################] (315276/315276 bytes) Complete\n",
      "\n",
      "\u001b[KChecking C:\\Users\\ofekd\\AppData\\Local\\Temp\\tmp9epk9khi\\omw-he\\omw-he.xml\n",
      "\u001b[KReading C:\\Users\\ofekd\\AppData\\Local\\Temp\\tmp9epk9khi\\omw-he\\omw-he.xml\n",
      "\u001b[K\n",
      "Read [##########                    ] (10000/29690) \n",
      "\u001b[K\n",
      "Read [####################          ] (20000/29690) \n",
      "\u001b[K\n",
      "Read [##############################] (29690/29690) \n",
      "\n",
      "\u001b[KUpdating lookup tables\n",
      "\u001b[K\n",
      "Database [                              ] (0/29687) \n",
      "\u001b[K\n",
      "Database [                              ] (0/29687) Lexicon Info\n",
      "\u001b[K\n",
      "Database [                              ] (0/29687) Synsets\n",
      "\u001b[K\n",
      "Database [#                             ] (1000/29687) Synsets\n",
      "\u001b[K\n",
      "Database [##                            ] (2000/29687) Synsets\n",
      "\u001b[K\n",
      "Database [###                           ] (3000/29687) Synsets\n",
      "\u001b[K\n",
      "Database [####                          ] (4000/29687) Synsets\n",
      "\u001b[K\n",
      "Database [#####                         ] (5000/29687) Synsets\n",
      "\u001b[K\n",
      "Database [#####-                        ] (5448/29687) Synsets\n",
      "\u001b[K\n",
      "Database [#####-                        ] (5448/29687) Words\n",
      "\u001b[K\n",
      "Database [######-                       ] (6448/29687) Words\n",
      "\u001b[K\n",
      "Database [#######-                      ] (7448/29687) Words\n",
      "\u001b[K\n",
      "Database [########-                     ] (8448/29687) Words\n",
      "\u001b[K\n",
      "Database [#########-                    ] (9448/29687) Words\n",
      "\u001b[K\n",
      "Database [##########-                   ] (10448/29687) Words\n",
      "\u001b[K\n",
      "Database [##########=                   ] (10827/29687) Words\n",
      "\u001b[K\n",
      "Database [##########=                   ] (10827/29687) Word Forms\n",
      "\u001b[K\n",
      "Database [###########=                  ] (11827/29687) Word Forms\n",
      "\u001b[K\n",
      "Database [############=                 ] (12827/29687) Word Forms\n",
      "\u001b[K\n",
      "Database [#############=                ] (13827/29687) Word Forms\n",
      "\u001b[K\n",
      "Database [##############=               ] (14827/29687) Word Forms\n",
      "\u001b[K\n",
      "Database [###############=              ] (15827/29687) Word Forms\n",
      "\u001b[K\n",
      "Database [################-             ] (16206/29687) Word Forms\n",
      "\u001b[K\n",
      "Database [################-             ] (16206/29687) Pronunciations\n",
      "\u001b[K\n",
      "Database [################-             ] (16206/29687) Pronunciations\n",
      "\u001b[K\n",
      "Database [################-             ] (16206/29687) Pronunciations\n",
      "\u001b[K\n",
      "Database [################-             ] (16206/29687) Pronunciations\n",
      "\u001b[K\n",
      "Database [################-             ] (16206/29687) Pronunciations\n",
      "\u001b[K\n",
      "Database [################-             ] (16206/29687) Pronunciations\n",
      "\u001b[K\n",
      "Database [################-             ] (16206/29687) Pronunciations\n",
      "\u001b[K\n",
      "Database [################-             ] (16206/29687) Word Form Tags\n",
      "\u001b[K\n",
      "Database [################-             ] (16206/29687) Word Form Tags\n",
      "\u001b[K\n",
      "Database [################-             ] (16206/29687) Word Form Tags\n",
      "\u001b[K\n",
      "Database [################-             ] (16206/29687) Word Form Tags\n",
      "\u001b[K\n",
      "Database [################-             ] (16206/29687) Word Form Tags\n",
      "\u001b[K\n",
      "Database [################-             ] (16206/29687) Word Form Tags\n",
      "\u001b[K\n",
      "Database [################-             ] (16206/29687) Word Form Tags\n",
      "\u001b[K\n",
      "Database [################-             ] (16206/29687) Senses\n",
      "\u001b[K\n",
      "Database [##################            ] (17901/29687) Senses\n",
      "\u001b[K\n",
      "Database [###################-          ] (19154/29687) Senses\n",
      "\u001b[K\n",
      "Database [####################-         ] (20319/29687) Senses\n",
      "\u001b[K\n",
      "Database [#####################=        ] (21531/29687) Senses\n",
      "\u001b[K\n",
      "Database [######################=       ] (22671/29687) Senses\n",
      "\u001b[K\n",
      "Database [#######################       ] (23078/29687) Senses\n",
      "\u001b[K\n",
      "Database [#######################       ] (23078/29687) Sense Adjpositions\n",
      "\u001b[K\n",
      "Database [#######################       ] (23078/29687) Counts\n",
      "\u001b[K\n",
      "Database [#######################       ] (23078/29687) Counts\n",
      "\u001b[K\n",
      "Database [#######################       ] (23078/29687) Syntactic Behaviours\n",
      "\u001b[K\n",
      "Database [#######################       ] (23078/29687) Syntactic Behaviours\n",
      "\u001b[K\n",
      "Database [#######################       ] (23078/29687) Synset Relations\n",
      "\u001b[K\n",
      "Database [#######################       ] (23078/29687) Synset Relations\n",
      "\u001b[K\n",
      "Database [#######################       ] (23078/29687) Synset Relations\n",
      "\u001b[K\n",
      "Database [#######################       ] (23078/29687) Synset Relations\n",
      "\u001b[K\n",
      "Database [#######################       ] (23078/29687) Synset Relations\n",
      "\u001b[K\n",
      "Database [#######################       ] (23078/29687) Synset Relations\n",
      "\u001b[K\n",
      "Database [#######################       ] (23078/29687) Synset Relations\n",
      "\u001b[K\n",
      "Database [#######################       ] (23078/29687) Sense Relations\n",
      "\u001b[K\n",
      "Database [#######################       ] (23078/29687) Definitions\n",
      "\u001b[K\n",
      "Database [########################=     ] (24503/29687) Definitions\n",
      "\u001b[K\n",
      "Database [##########################    ] (25778/29687) Definitions\n",
      "\u001b[K\n",
      "Database [###########################   ] (27015/29687) Definitions\n",
      "\u001b[K\n",
      "Database [############################- ] (28283/29687) Definitions\n",
      "\u001b[K\n",
      "Database [#############################-] (29140/29687) Definitions\n",
      "\u001b[K\n",
      "Database [##############################] (29687/29687) Definitions\n",
      "\u001b[K\n",
      "Database [##############################] (29687/29687) Examples\n",
      "\u001b[K\n",
      "Database [##############################] (29687/29687) Examples\n",
      "\u001b[K\n",
      "Database [##############################] (29687/29687) Examples\n",
      "\u001b[K\n",
      "Database [##############################] (29687/29687) Examples\n",
      "\u001b[K\n",
      "Database [##############################] (29687/29687) Examples\n",
      "\u001b[K\n",
      "Database [##############################] (29687/29687) Examples\n",
      "\u001b[K\n",
      "Database [##############################] (29687/29687) Examples\n",
      "\u001b[K\n",
      "Database [##############################] (29687/29687) Examples\n",
      "\u001b[K\n",
      "Database [##############################] (29687/29687) Examples\n",
      "\u001b[K\n",
      "Database [##############################] (29687/29687) Examples\n",
      "\u001b[K\n",
      "Database [##############################] (29687/29687) Examples\n",
      "\u001b[K\n",
      "Database [##############################] (29687/29687) Examples\n",
      "\u001b[K\n",
      "Database [##############################] (29687/29687) Examples\n",
      "\u001b[K\n",
      "Database [##############################] (29687/29687) Examples\n",
      "\u001b[K\n",
      "Database [##############################] (29687/29687) Examples\n",
      "\u001b[K\n",
      "Database [##############################] (29687/29687) \n",
      "\u001b[KAdded omw-he:1.4 (Hebrew Wordnet)\n",
      "\n"
     ]
    }
   ],
   "source": [
    "# word net installation:\n",
    "\n",
    "# unmark if you want to use and need to install\n",
    "!pip install wn\n",
    "!python -m wn download omw-he:1.4"
   ]
  },
  {
   "cell_type": "code",
   "execution_count": 5,
   "metadata": {},
   "outputs": [],
   "source": [
    "# word net import:\n",
    "\n",
    "# unmark if you want to use:\n",
    "import wn"
   ]
  },
  {
   "attachments": {},
   "cell_type": "markdown",
   "metadata": {},
   "source": [
    "### (optional) Hebrew text analysis - hebrew_tokenizer (Tokenizer for Hebrew)\n",
    "Note: the hebrew_tokenizer is not a must"
   ]
  },
  {
   "attachments": {},
   "cell_type": "markdown",
   "metadata": {},
   "source": [
    "#### (optional) Only if you didn't install hebrew_tokenizer use:"
   ]
  },
  {
   "cell_type": "code",
   "execution_count": 6,
   "metadata": {},
   "outputs": [
    {
     "name": "stdout",
     "output_type": "stream",
     "text": [
      "Collecting hebrew_tokenizer\n",
      "  Downloading hebrew_tokenizer-2.3.0.tar.gz (13 kB)\n",
      "  Preparing metadata (setup.py): started\n",
      "  Preparing metadata (setup.py): finished with status 'done'\n",
      "Building wheels for collected packages: hebrew_tokenizer\n",
      "  Building wheel for hebrew_tokenizer (setup.py): started\n",
      "  Building wheel for hebrew_tokenizer (setup.py): finished with status 'done'\n",
      "  Created wheel for hebrew_tokenizer: filename=hebrew_tokenizer-2.3.0-py3-none-any.whl size=13418 sha256=c212bc6cbbc828f1feca326c621ba1921f6b0ec0ad175b39c0cfd03fe1170f79\n",
      "  Stored in directory: c:\\users\\ofekd\\appdata\\local\\pip\\cache\\wheels\\a7\\2f\\af\\95d5eb2e7c291753542d4419e200429a22fb2d74e3f27d7711\n",
      "Successfully built hebrew_tokenizer\n",
      "Installing collected packages: hebrew_tokenizer\n",
      "Successfully installed hebrew_tokenizer-2.3.0\n"
     ]
    }
   ],
   "source": [
    "# Hebrew tokenizer installation:\n",
    "\n",
    "# unmark if you want to use and need to install:\n",
    "!pip install hebrew_tokenizer"
   ]
  },
  {
   "cell_type": "code",
   "execution_count": 7,
   "metadata": {},
   "outputs": [
    {
     "name": "stdout",
     "output_type": "stream",
     "text": [
      "c:\\Users\\ofekd\\OneDrive\\Desktop\\מטלה 5\\assignment5-text_analysis\n"
     ]
    }
   ],
   "source": [
    "# Hebrew tokenizer import:\n",
    "\n",
    "# unmark if you want to use:\n",
    "import hebrew_tokenizer as ht"
   ]
  },
  {
   "attachments": {},
   "cell_type": "markdown",
   "metadata": {},
   "source": [
    "### Reading input files\n",
    "Reading input files for train annotated corpus (raw text data) corpus and for the test corpus"
   ]
  },
  {
   "cell_type": "code",
   "execution_count": 8,
   "metadata": {},
   "outputs": [],
   "source": [
    "train_filename = 'annotated_corpus_for_train.csv'\n",
    "test_filename  = 'corpus_for_test.csv'\n",
    "df_train = pd.read_csv(train_filename, index_col=None, encoding='utf-8')\n",
    "df_test  = pd.read_csv(test_filename, index_col=None, encoding='utf-8')"
   ]
  },
  {
   "cell_type": "code",
   "execution_count": 10,
   "metadata": {},
   "outputs": [
    {
     "data": {
      "text/html": [
       "<div>\n",
       "<style scoped>\n",
       "    .dataframe tbody tr th:only-of-type {\n",
       "        vertical-align: middle;\n",
       "    }\n",
       "\n",
       "    .dataframe tbody tr th {\n",
       "        vertical-align: top;\n",
       "    }\n",
       "\n",
       "    .dataframe thead th {\n",
       "        text-align: right;\n",
       "    }\n",
       "</style>\n",
       "<table border=\"1\" class=\"dataframe\">\n",
       "  <thead>\n",
       "    <tr style=\"text-align: right;\">\n",
       "      <th></th>\n",
       "      <th>story</th>\n",
       "      <th>gender</th>\n",
       "    </tr>\n",
       "  </thead>\n",
       "  <tbody>\n",
       "    <tr>\n",
       "      <th>0</th>\n",
       "      <td>כשחבר הזמין אותי לחול, לא באמת חשבתי שזה יקרה,...</td>\n",
       "      <td>m</td>\n",
       "    </tr>\n",
       "    <tr>\n",
       "      <th>1</th>\n",
       "      <td>לפני שהתגייסתי לצבא עשיתי כל מני מיונים ליחידו...</td>\n",
       "      <td>m</td>\n",
       "    </tr>\n",
       "    <tr>\n",
       "      <th>2</th>\n",
       "      <td>מאז שהתחילו הלימודים חלומו של כל סטודנט זה הפנ...</td>\n",
       "      <td>f</td>\n",
       "    </tr>\n",
       "    <tr>\n",
       "      <th>3</th>\n",
       "      <td>כשהייתי ילד, מטוסים היה הדבר שהכי ריתק אותי. ב...</td>\n",
       "      <td>m</td>\n",
       "    </tr>\n",
       "    <tr>\n",
       "      <th>4</th>\n",
       "      <td>‏הייתי מדריכה בכפר נוער ומתאם הכפר היינו צריכי...</td>\n",
       "      <td>f</td>\n",
       "    </tr>\n",
       "    <tr>\n",
       "      <th>5</th>\n",
       "      <td>לפני כ3 חודשים טסתי לרומא למשך שבוע. טסתי במטו...</td>\n",
       "      <td>f</td>\n",
       "    </tr>\n",
       "    <tr>\n",
       "      <th>6</th>\n",
       "      <td>אני כבר שנתיים נשוי והשנה אני ואישתי סוף סוף י...</td>\n",
       "      <td>m</td>\n",
       "    </tr>\n",
       "    <tr>\n",
       "      <th>7</th>\n",
       "      <td>השנה התחלנו שיפוץ בדירה שלנו בתל אביב. הדירה ה...</td>\n",
       "      <td>f</td>\n",
       "    </tr>\n",
       "  </tbody>\n",
       "</table>\n",
       "</div>"
      ],
      "text/plain": [
       "                                               story gender\n",
       "0  כשחבר הזמין אותי לחול, לא באמת חשבתי שזה יקרה,...      m\n",
       "1  לפני שהתגייסתי לצבא עשיתי כל מני מיונים ליחידו...      m\n",
       "2  מאז שהתחילו הלימודים חלומו של כל סטודנט זה הפנ...      f\n",
       "3  כשהייתי ילד, מטוסים היה הדבר שהכי ריתק אותי. ב...      m\n",
       "4  ‏הייתי מדריכה בכפר נוער ומתאם הכפר היינו צריכי...      f\n",
       "5  לפני כ3 חודשים טסתי לרומא למשך שבוע. טסתי במטו...      f\n",
       "6  אני כבר שנתיים נשוי והשנה אני ואישתי סוף סוף י...      m\n",
       "7  השנה התחלנו שיפוץ בדירה שלנו בתל אביב. הדירה ה...      f"
      ]
     },
     "execution_count": 10,
     "metadata": {},
     "output_type": "execute_result"
    },
    {
     "data": {
      "text/plain": [
       "(753, 2)"
      ]
     },
     "execution_count": 10,
     "metadata": {},
     "output_type": "execute_result"
    }
   ],
   "source": [
    "df_train.head(8)\n",
    "df_train.shape"
   ]
  },
  {
   "cell_type": "code",
   "execution_count": 11,
   "metadata": {},
   "outputs": [
    {
     "data": {
      "text/html": [
       "<div>\n",
       "<style scoped>\n",
       "    .dataframe tbody tr th:only-of-type {\n",
       "        vertical-align: middle;\n",
       "    }\n",
       "\n",
       "    .dataframe tbody tr th {\n",
       "        vertical-align: top;\n",
       "    }\n",
       "\n",
       "    .dataframe thead th {\n",
       "        text-align: right;\n",
       "    }\n",
       "</style>\n",
       "<table border=\"1\" class=\"dataframe\">\n",
       "  <thead>\n",
       "    <tr style=\"text-align: right;\">\n",
       "      <th></th>\n",
       "      <th>test_example_id</th>\n",
       "      <th>story</th>\n",
       "    </tr>\n",
       "  </thead>\n",
       "  <tbody>\n",
       "    <tr>\n",
       "      <th>0</th>\n",
       "      <td>0</td>\n",
       "      <td>כל קיץ אני והמשפחה נוסעים לארצות הברית לוס אנג...</td>\n",
       "    </tr>\n",
       "    <tr>\n",
       "      <th>1</th>\n",
       "      <td>1</td>\n",
       "      <td>הגעתי לשירות המדינה אחרי שנתיים כפעיל בתנועת \"...</td>\n",
       "    </tr>\n",
       "    <tr>\n",
       "      <th>2</th>\n",
       "      <td>2</td>\n",
       "      <td>אחת האהבות הגדולות שלי אלו הכלבים שלי ושל אישת...</td>\n",
       "    </tr>\n",
       "  </tbody>\n",
       "</table>\n",
       "</div>"
      ],
      "text/plain": [
       "   test_example_id                                              story\n",
       "0                0  כל קיץ אני והמשפחה נוסעים לארצות הברית לוס אנג...\n",
       "1                1  הגעתי לשירות המדינה אחרי שנתיים כפעיל בתנועת \"...\n",
       "2                2  אחת האהבות הגדולות שלי אלו הכלבים שלי ושל אישת..."
      ]
     },
     "execution_count": 11,
     "metadata": {},
     "output_type": "execute_result"
    },
    {
     "data": {
      "text/plain": [
       "(323, 2)"
      ]
     },
     "execution_count": 11,
     "metadata": {},
     "output_type": "execute_result"
    }
   ],
   "source": [
    "df_test.head(3)\n",
    "df_test.shape"
   ]
  },
  {
   "attachments": {},
   "cell_type": "markdown",
   "metadata": {},
   "source": [
    "### Your implementation:\n",
    "Write your code solution in the following code-cells"
   ]
  },
  {
   "cell_type": "code",
   "execution_count": 12,
   "metadata": {},
   "outputs": [],
   "source": [
    "# YOUR CODE HERE\n",
    "X_test  = df_test['story']\n",
    "X_train = df_train['story']\n",
    "y_train = df_train['gender']\n",
    "\n",
    "\n",
    "#change story to words\n",
    "\n",
    "def storys_to_words(story):\n",
    "    words_list = [] #setup list\n",
    "    \n",
    "    tokens = ht.tokenize(story) \n",
    "    for grp, token, token_num, (start_index, end_index) in tokens:\n",
    "        if grp == 'HEBREW':\n",
    "            words_list.append(token)  \n",
    "    return words_list\n"
   ]
  },
  {
   "cell_type": "code",
   "execution_count": 13,
   "metadata": {},
   "outputs": [],
   "source": [
    "# YOUR CODE HERE\n",
    "def pre_process(train, test):\n",
    "    words_train = [storys_to_words(story) for story in train]\n",
    "    words_test  = [storys_to_words(story) for story in test]\n",
    "    # returns train and test sets.\n",
    "    return words_train, words_test\n",
    "\n",
    "# preprossesing the data\n",
    "X_train_processed, X_test_processed = pre_process(X_train, X_test)"
   ]
  },
  {
   "cell_type": "code",
   "execution_count": 14,
   "metadata": {},
   "outputs": [],
   "source": [
    "# YOUR CODE HERE\n",
    "def get_features(words_train, words_test, vocabulary_size=1400): \n",
    "    #transform a given text into a vector on the basis of the frequency (count) of each word that occurs in the entire text\n",
    "    vectorizer = CountVectorizer(max_features=vocabulary_size,   \n",
    "                preprocessor=lambda x: x, tokenizer=lambda x: x)\n",
    "    features_train = vectorizer.fit_transform(words_train).toarray()\n",
    "    # set the vectorizer to set the test set\n",
    "    features_test = vectorizer.transform(words_test).toarray()\n",
    "    vocabulary = vectorizer.vocabulary_\n",
    "    \n",
    "    return features_train, features_test, vocabulary\n",
    "# getting the features\n",
    "X_train_bow, X_test_bow, vocabulary = get_features(X_train_processed, X_test_processed)\n",
    "\n"
   ]
  },
  {
   "cell_type": "code",
   "execution_count": 15,
   "metadata": {},
   "outputs": [
    {
     "data": {
      "text/plain": [
       "MultinomialNB()"
      ]
     },
     "execution_count": 15,
     "metadata": {},
     "output_type": "execute_result"
    },
    {
     "name": "stdout",
     "output_type": "stream",
     "text": [
      "F1 score: 0.7339181286549707\n"
     ]
    }
   ],
   "source": [
    "# Add as many code cells as you need\n",
    "# YOUR CODE HERE\n",
    "n = X_train_bow.shape[0]\n",
    "\n",
    "# the decimal number represents the amout htat goes to train\n",
    "n_training = int(0.88 * n)\n",
    "\n",
    "#setup\n",
    "train_y = y_train[:n_training]\n",
    "val_y= y_train[n_training:]\n",
    "\n",
    "train_X = X_train_bow[:n_training]\n",
    "val_X = X_train_bow[n_training:]\n",
    "\n",
    "\n",
    "test_X = X_test_bow\n",
    "\n",
    "# naive bayes prediction\n",
    "classifier = MultinomialNB() # suitable for classification with discrete features\n",
    "\n",
    "classifier.fit(train_X, train_y)\n",
    "predictions_bayes_val = classifier.predict(val_X)\n",
    "\n",
    "f1 = f1_score(val_y, predictions_bayes_val, average='macro') # Average_f1=(f1_male + f1_female)/2\n",
    "print('F1 score:' ,f1)\n",
    "\n",
    "predictions_bayes_test = classifier.predict(test_X)"
   ]
  },
  {
   "cell_type": "code",
   "execution_count": 16,
   "metadata": {},
   "outputs": [],
   "source": [
    "df_predicted = pd.DataFrame({'test_example_id': df_test['test_example_id'],'predicted_category': predictions_bayes_test})"
   ]
  },
  {
   "cell_type": "code",
   "execution_count": 17,
   "metadata": {},
   "outputs": [
    {
     "data": {
      "text/plain": [
       "m    261\n",
       "f     62\n",
       "Name: predicted_category, dtype: int64"
      ]
     },
     "execution_count": 17,
     "metadata": {},
     "output_type": "execute_result"
    }
   ],
   "source": [
    "y_pred=df_predicted['predicted_category'];\n",
    "df_test['predicted_category']=pd.Series(y_pred).replace([0,1],['m','f'])\n",
    "df_test['predicted_category'].value_counts()"
   ]
  },
  {
   "cell_type": "code",
   "execution_count": 20,
   "metadata": {},
   "outputs": [
    {
     "data": {
      "text/html": [
       "<div>\n",
       "<style scoped>\n",
       "    .dataframe tbody tr th:only-of-type {\n",
       "        vertical-align: middle;\n",
       "    }\n",
       "\n",
       "    .dataframe tbody tr th {\n",
       "        vertical-align: top;\n",
       "    }\n",
       "\n",
       "    .dataframe thead th {\n",
       "        text-align: right;\n",
       "    }\n",
       "</style>\n",
       "<table border=\"1\" class=\"dataframe\">\n",
       "  <thead>\n",
       "    <tr style=\"text-align: right;\">\n",
       "      <th></th>\n",
       "      <th>test_example_id</th>\n",
       "      <th>predicted_category</th>\n",
       "    </tr>\n",
       "  </thead>\n",
       "  <tbody>\n",
       "    <tr>\n",
       "      <th>0</th>\n",
       "      <td>0</td>\n",
       "      <td>m</td>\n",
       "    </tr>\n",
       "    <tr>\n",
       "      <th>1</th>\n",
       "      <td>1</td>\n",
       "      <td>m</td>\n",
       "    </tr>\n",
       "    <tr>\n",
       "      <th>2</th>\n",
       "      <td>2</td>\n",
       "      <td>m</td>\n",
       "    </tr>\n",
       "    <tr>\n",
       "      <th>3</th>\n",
       "      <td>3</td>\n",
       "      <td>m</td>\n",
       "    </tr>\n",
       "    <tr>\n",
       "      <th>4</th>\n",
       "      <td>4</td>\n",
       "      <td>f</td>\n",
       "    </tr>\n",
       "    <tr>\n",
       "      <th>...</th>\n",
       "      <td>...</td>\n",
       "      <td>...</td>\n",
       "    </tr>\n",
       "    <tr>\n",
       "      <th>318</th>\n",
       "      <td>318</td>\n",
       "      <td>m</td>\n",
       "    </tr>\n",
       "    <tr>\n",
       "      <th>319</th>\n",
       "      <td>319</td>\n",
       "      <td>m</td>\n",
       "    </tr>\n",
       "    <tr>\n",
       "      <th>320</th>\n",
       "      <td>320</td>\n",
       "      <td>m</td>\n",
       "    </tr>\n",
       "    <tr>\n",
       "      <th>321</th>\n",
       "      <td>321</td>\n",
       "      <td>m</td>\n",
       "    </tr>\n",
       "    <tr>\n",
       "      <th>322</th>\n",
       "      <td>322</td>\n",
       "      <td>m</td>\n",
       "    </tr>\n",
       "  </tbody>\n",
       "</table>\n",
       "<p>323 rows × 2 columns</p>\n",
       "</div>"
      ],
      "text/plain": [
       "     test_example_id predicted_category\n",
       "0                  0                  m\n",
       "1                  1                  m\n",
       "2                  2                  m\n",
       "3                  3                  m\n",
       "4                  4                  f\n",
       "..               ...                ...\n",
       "318              318                  m\n",
       "319              319                  m\n",
       "320              320                  m\n",
       "321              321                  m\n",
       "322              322                  m\n",
       "\n",
       "[323 rows x 2 columns]"
      ]
     },
     "execution_count": 20,
     "metadata": {},
     "output_type": "execute_result"
    }
   ],
   "source": [
    "df_predicted"
   ]
  },
  {
   "attachments": {},
   "cell_type": "markdown",
   "metadata": {},
   "source": [
    "### Save output to csv (optional)\n",
    "After you're done save your output to the 'classification_results.csv' csv file.<br/>\n",
    "We assume that the dataframe with your results contain the following columns:\n",
    "* column 1 (left column): 'test_example_id'  - the same id associated to each of the test stories to be predicted.\n",
    "* column 2 (right column): 'predicted_category' - the predicted gender value for each of the associated story. \n",
    "\n",
    "Assuming your predicted values are in the `df_predicted` dataframe, you should save you're results as following:"
   ]
  },
  {
   "cell_type": "code",
   "execution_count": 19,
   "metadata": {},
   "outputs": [],
   "source": [
    "df_predicted.to_csv('classification_results.csv',index=False)"
   ]
  },
  {
   "cell_type": "code",
   "execution_count": null,
   "metadata": {},
   "outputs": [],
   "source": []
  }
 ],
 "metadata": {
  "celltoolbar": "Create Assignment",
  "kernelspec": {
   "display_name": "Python 3 (ipykernel)",
   "language": "python",
   "name": "python3"
  },
  "language_info": {
   "codemirror_mode": {
    "name": "ipython",
    "version": 3
   },
   "file_extension": ".py",
   "mimetype": "text/x-python",
   "name": "python",
   "nbconvert_exporter": "python",
   "pygments_lexer": "ipython3",
   "version": "3.9.13"
  }
 },
 "nbformat": 4,
 "nbformat_minor": 4
}
